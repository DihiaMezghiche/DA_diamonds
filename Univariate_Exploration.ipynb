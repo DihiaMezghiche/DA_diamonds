{
 "cells": [
  {
   "cell_type": "code",
   "execution_count": 41,
   "metadata": {},
   "outputs": [],
   "source": [
    "# import all packages and set plots to be embedded inline\n",
    "import numpy as np\n",
    "import pandas as pd\n",
    "import matplotlib.pyplot as plt\n",
    "import seaborn as sb\n",
    "\n",
    "%matplotlib inline"
   ]
  },
  {
   "cell_type": "code",
   "execution_count": 42,
   "metadata": {},
   "outputs": [],
   "source": [
    "# load in the dataset into a pandas dataframe\n",
    "diamonds = pd.read_csv('diamonds.csv')"
   ]
  },
  {
   "cell_type": "markdown",
   "metadata": {},
   "source": [
    "## Dataset Overview\n",
    "\n",
    "Before running straight into the exploration, let's just take a moment to get a high-level overview of the dataset. We can refer back to these points if we need to get our bearings on what we should expect to see from each variable."
   ]
  },
  {
   "cell_type": "code",
   "execution_count": 43,
   "metadata": {},
   "outputs": [
    {
     "name": "stdout",
     "output_type": "stream",
     "text": [
      "(53940, 10)\n",
      "carat      float64\n",
      "cut         object\n",
      "color       object\n",
      "clarity     object\n",
      "depth      float64\n",
      "table      float64\n",
      "price        int64\n",
      "x          float64\n",
      "y          float64\n",
      "z          float64\n",
      "dtype: object\n"
     ]
    },
    {
     "data": {
      "text/html": [
       "<div>\n",
       "<style scoped>\n",
       "    .dataframe tbody tr th:only-of-type {\n",
       "        vertical-align: middle;\n",
       "    }\n",
       "\n",
       "    .dataframe tbody tr th {\n",
       "        vertical-align: top;\n",
       "    }\n",
       "\n",
       "    .dataframe thead th {\n",
       "        text-align: right;\n",
       "    }\n",
       "</style>\n",
       "<table border=\"1\" class=\"dataframe\">\n",
       "  <thead>\n",
       "    <tr style=\"text-align: right;\">\n",
       "      <th></th>\n",
       "      <th>carat</th>\n",
       "      <th>cut</th>\n",
       "      <th>color</th>\n",
       "      <th>clarity</th>\n",
       "      <th>depth</th>\n",
       "      <th>table</th>\n",
       "      <th>price</th>\n",
       "      <th>x</th>\n",
       "      <th>y</th>\n",
       "      <th>z</th>\n",
       "    </tr>\n",
       "  </thead>\n",
       "  <tbody>\n",
       "    <tr>\n",
       "      <th>0</th>\n",
       "      <td>0.23</td>\n",
       "      <td>Ideal</td>\n",
       "      <td>E</td>\n",
       "      <td>SI2</td>\n",
       "      <td>61.5</td>\n",
       "      <td>55.0</td>\n",
       "      <td>326</td>\n",
       "      <td>3.95</td>\n",
       "      <td>3.98</td>\n",
       "      <td>2.43</td>\n",
       "    </tr>\n",
       "    <tr>\n",
       "      <th>1</th>\n",
       "      <td>0.21</td>\n",
       "      <td>Premium</td>\n",
       "      <td>E</td>\n",
       "      <td>SI1</td>\n",
       "      <td>59.8</td>\n",
       "      <td>61.0</td>\n",
       "      <td>326</td>\n",
       "      <td>3.89</td>\n",
       "      <td>3.84</td>\n",
       "      <td>2.31</td>\n",
       "    </tr>\n",
       "    <tr>\n",
       "      <th>2</th>\n",
       "      <td>0.23</td>\n",
       "      <td>Good</td>\n",
       "      <td>E</td>\n",
       "      <td>VS1</td>\n",
       "      <td>56.9</td>\n",
       "      <td>65.0</td>\n",
       "      <td>327</td>\n",
       "      <td>4.05</td>\n",
       "      <td>4.07</td>\n",
       "      <td>2.31</td>\n",
       "    </tr>\n",
       "    <tr>\n",
       "      <th>3</th>\n",
       "      <td>0.29</td>\n",
       "      <td>Premium</td>\n",
       "      <td>I</td>\n",
       "      <td>VS2</td>\n",
       "      <td>62.4</td>\n",
       "      <td>58.0</td>\n",
       "      <td>334</td>\n",
       "      <td>4.20</td>\n",
       "      <td>4.23</td>\n",
       "      <td>2.63</td>\n",
       "    </tr>\n",
       "    <tr>\n",
       "      <th>4</th>\n",
       "      <td>0.31</td>\n",
       "      <td>Good</td>\n",
       "      <td>J</td>\n",
       "      <td>SI2</td>\n",
       "      <td>63.3</td>\n",
       "      <td>58.0</td>\n",
       "      <td>335</td>\n",
       "      <td>4.34</td>\n",
       "      <td>4.35</td>\n",
       "      <td>2.75</td>\n",
       "    </tr>\n",
       "    <tr>\n",
       "      <th>5</th>\n",
       "      <td>0.24</td>\n",
       "      <td>Very Good</td>\n",
       "      <td>J</td>\n",
       "      <td>VVS2</td>\n",
       "      <td>62.8</td>\n",
       "      <td>57.0</td>\n",
       "      <td>336</td>\n",
       "      <td>3.94</td>\n",
       "      <td>3.96</td>\n",
       "      <td>2.48</td>\n",
       "    </tr>\n",
       "    <tr>\n",
       "      <th>6</th>\n",
       "      <td>0.24</td>\n",
       "      <td>Very Good</td>\n",
       "      <td>I</td>\n",
       "      <td>VVS1</td>\n",
       "      <td>62.3</td>\n",
       "      <td>57.0</td>\n",
       "      <td>336</td>\n",
       "      <td>3.95</td>\n",
       "      <td>3.98</td>\n",
       "      <td>2.47</td>\n",
       "    </tr>\n",
       "    <tr>\n",
       "      <th>7</th>\n",
       "      <td>0.26</td>\n",
       "      <td>Very Good</td>\n",
       "      <td>H</td>\n",
       "      <td>SI1</td>\n",
       "      <td>61.9</td>\n",
       "      <td>55.0</td>\n",
       "      <td>337</td>\n",
       "      <td>4.07</td>\n",
       "      <td>4.11</td>\n",
       "      <td>2.53</td>\n",
       "    </tr>\n",
       "    <tr>\n",
       "      <th>8</th>\n",
       "      <td>0.22</td>\n",
       "      <td>Fair</td>\n",
       "      <td>E</td>\n",
       "      <td>VS2</td>\n",
       "      <td>65.1</td>\n",
       "      <td>61.0</td>\n",
       "      <td>337</td>\n",
       "      <td>3.87</td>\n",
       "      <td>3.78</td>\n",
       "      <td>2.49</td>\n",
       "    </tr>\n",
       "    <tr>\n",
       "      <th>9</th>\n",
       "      <td>0.23</td>\n",
       "      <td>Very Good</td>\n",
       "      <td>H</td>\n",
       "      <td>VS1</td>\n",
       "      <td>59.4</td>\n",
       "      <td>61.0</td>\n",
       "      <td>338</td>\n",
       "      <td>4.00</td>\n",
       "      <td>4.05</td>\n",
       "      <td>2.39</td>\n",
       "    </tr>\n",
       "  </tbody>\n",
       "</table>\n",
       "</div>"
      ],
      "text/plain": [
       "   carat        cut color clarity  depth  table  price     x     y     z\n",
       "0   0.23      Ideal     E     SI2   61.5   55.0    326  3.95  3.98  2.43\n",
       "1   0.21    Premium     E     SI1   59.8   61.0    326  3.89  3.84  2.31\n",
       "2   0.23       Good     E     VS1   56.9   65.0    327  4.05  4.07  2.31\n",
       "3   0.29    Premium     I     VS2   62.4   58.0    334  4.20  4.23  2.63\n",
       "4   0.31       Good     J     SI2   63.3   58.0    335  4.34  4.35  2.75\n",
       "5   0.24  Very Good     J    VVS2   62.8   57.0    336  3.94  3.96  2.48\n",
       "6   0.24  Very Good     I    VVS1   62.3   57.0    336  3.95  3.98  2.47\n",
       "7   0.26  Very Good     H     SI1   61.9   55.0    337  4.07  4.11  2.53\n",
       "8   0.22       Fair     E     VS2   65.1   61.0    337  3.87  3.78  2.49\n",
       "9   0.23  Very Good     H     VS1   59.4   61.0    338  4.00  4.05  2.39"
      ]
     },
     "execution_count": 43,
     "metadata": {},
     "output_type": "execute_result"
    }
   ],
   "source": [
    "# high-level overview of data shape and composition\n",
    "print(diamonds.shape)\n",
    "print(diamonds.dtypes)\n",
    "diamonds.head(10)"
   ]
  },
  {
   "cell_type": "code",
   "execution_count": 44,
   "metadata": {},
   "outputs": [
    {
     "data": {
      "text/html": [
       "<div>\n",
       "<style scoped>\n",
       "    .dataframe tbody tr th:only-of-type {\n",
       "        vertical-align: middle;\n",
       "    }\n",
       "\n",
       "    .dataframe tbody tr th {\n",
       "        vertical-align: top;\n",
       "    }\n",
       "\n",
       "    .dataframe thead th {\n",
       "        text-align: right;\n",
       "    }\n",
       "</style>\n",
       "<table border=\"1\" class=\"dataframe\">\n",
       "  <thead>\n",
       "    <tr style=\"text-align: right;\">\n",
       "      <th></th>\n",
       "      <th>carat</th>\n",
       "      <th>depth</th>\n",
       "      <th>table</th>\n",
       "      <th>price</th>\n",
       "      <th>x</th>\n",
       "      <th>y</th>\n",
       "      <th>z</th>\n",
       "    </tr>\n",
       "  </thead>\n",
       "  <tbody>\n",
       "    <tr>\n",
       "      <th>count</th>\n",
       "      <td>53940.000000</td>\n",
       "      <td>53940.000000</td>\n",
       "      <td>53940.000000</td>\n",
       "      <td>53940.000000</td>\n",
       "      <td>53940.000000</td>\n",
       "      <td>53940.000000</td>\n",
       "      <td>53940.000000</td>\n",
       "    </tr>\n",
       "    <tr>\n",
       "      <th>mean</th>\n",
       "      <td>0.797940</td>\n",
       "      <td>61.749405</td>\n",
       "      <td>57.457184</td>\n",
       "      <td>3932.799722</td>\n",
       "      <td>5.731157</td>\n",
       "      <td>5.734526</td>\n",
       "      <td>3.538734</td>\n",
       "    </tr>\n",
       "    <tr>\n",
       "      <th>std</th>\n",
       "      <td>0.474011</td>\n",
       "      <td>1.432621</td>\n",
       "      <td>2.234491</td>\n",
       "      <td>3989.439738</td>\n",
       "      <td>1.121761</td>\n",
       "      <td>1.142135</td>\n",
       "      <td>0.705699</td>\n",
       "    </tr>\n",
       "    <tr>\n",
       "      <th>min</th>\n",
       "      <td>0.200000</td>\n",
       "      <td>43.000000</td>\n",
       "      <td>43.000000</td>\n",
       "      <td>326.000000</td>\n",
       "      <td>0.000000</td>\n",
       "      <td>0.000000</td>\n",
       "      <td>0.000000</td>\n",
       "    </tr>\n",
       "    <tr>\n",
       "      <th>25%</th>\n",
       "      <td>0.400000</td>\n",
       "      <td>61.000000</td>\n",
       "      <td>56.000000</td>\n",
       "      <td>950.000000</td>\n",
       "      <td>4.710000</td>\n",
       "      <td>4.720000</td>\n",
       "      <td>2.910000</td>\n",
       "    </tr>\n",
       "    <tr>\n",
       "      <th>50%</th>\n",
       "      <td>0.700000</td>\n",
       "      <td>61.800000</td>\n",
       "      <td>57.000000</td>\n",
       "      <td>2401.000000</td>\n",
       "      <td>5.700000</td>\n",
       "      <td>5.710000</td>\n",
       "      <td>3.530000</td>\n",
       "    </tr>\n",
       "    <tr>\n",
       "      <th>75%</th>\n",
       "      <td>1.040000</td>\n",
       "      <td>62.500000</td>\n",
       "      <td>59.000000</td>\n",
       "      <td>5324.250000</td>\n",
       "      <td>6.540000</td>\n",
       "      <td>6.540000</td>\n",
       "      <td>4.040000</td>\n",
       "    </tr>\n",
       "    <tr>\n",
       "      <th>max</th>\n",
       "      <td>5.010000</td>\n",
       "      <td>79.000000</td>\n",
       "      <td>95.000000</td>\n",
       "      <td>18823.000000</td>\n",
       "      <td>10.740000</td>\n",
       "      <td>58.900000</td>\n",
       "      <td>31.800000</td>\n",
       "    </tr>\n",
       "  </tbody>\n",
       "</table>\n",
       "</div>"
      ],
      "text/plain": [
       "              carat         depth         table         price             x  \\\n",
       "count  53940.000000  53940.000000  53940.000000  53940.000000  53940.000000   \n",
       "mean       0.797940     61.749405     57.457184   3932.799722      5.731157   \n",
       "std        0.474011      1.432621      2.234491   3989.439738      1.121761   \n",
       "min        0.200000     43.000000     43.000000    326.000000      0.000000   \n",
       "25%        0.400000     61.000000     56.000000    950.000000      4.710000   \n",
       "50%        0.700000     61.800000     57.000000   2401.000000      5.700000   \n",
       "75%        1.040000     62.500000     59.000000   5324.250000      6.540000   \n",
       "max        5.010000     79.000000     95.000000  18823.000000     10.740000   \n",
       "\n",
       "                  y             z  \n",
       "count  53940.000000  53940.000000  \n",
       "mean       5.734526      3.538734  \n",
       "std        1.142135      0.705699  \n",
       "min        0.000000      0.000000  \n",
       "25%        4.720000      2.910000  \n",
       "50%        5.710000      3.530000  \n",
       "75%        6.540000      4.040000  \n",
       "max       58.900000     31.800000  "
      ]
     },
     "execution_count": 44,
     "metadata": {},
     "output_type": "execute_result"
    }
   ],
   "source": [
    "# descriptive statistics for numeric variables\n",
    "diamonds.describe()"
   ]
  },
  {
   "cell_type": "code",
   "execution_count": 45,
   "metadata": {},
   "outputs": [],
   "source": [
    "# convert cut,color,clarity\n",
    "category_order_var = {\n",
    "    'cut': ['Fair', 'Good', 'Very Good', 'Premium', 'Ideal'],\n",
    "    'color': [ 'J', 'I', 'H', 'G', 'F', 'E','D'],\n",
    "    'clarity': ['I1', 'SI2', 'SI1', 'VS2', 'VS1', 'VVS2', 'VVS1', 'IF']\n",
    "}\n",
    "for var in category_order_var:\n",
    "    new_type = pd.api.types.CategoricalDtype(categories = category_order_var[var], ordered= True )\n",
    "    diamonds[var] = diamonds[var].astype(new_type)"
   ]
  },
  {
   "cell_type": "markdown",
   "metadata": {},
   "source": [
    "## Univariate Exploration\n",
    "\n",
    "Let's start our exploration by looking at the main variable of interest: price. Is the distribution skewed or symmetric? Is it unimodal or multimodal?"
   ]
  },
  {
   "cell_type": "code",
   "execution_count": 46,
   "metadata": {},
   "outputs": [
    {
     "data": {
      "image/png": "[encoded data removed]",
      "text/plain": [
       "<Figure size 576x360 with 1 Axes>"
      ]
     },
     "metadata": {
      "needs_background": "light"
     },
     "output_type": "display_data"
    }
   ],
   "source": [
    "# univariate plot of diamond prices\n",
    "binsize = 500\n",
    "bins = np.arange(0,diamonds['price'].max()+binsize,binsize)\n",
    "\n",
    "plt.figure(figsize=[8,5])\n",
    "plt.hist(data=diamonds, x='price', bins=bins)\n",
    "plt.xlabel('Price ($)')\n",
    "plt.show()\n"
   ]
  },
  {
   "cell_type": "code",
   "execution_count": 47,
   "metadata": {},
   "outputs": [
    {
     "data": {
      "image/png": "[encoded data removed]",
      "text/plain": [
       "<Figure size 576x360 with 1 Axes>"
      ]
     },
     "metadata": {
      "needs_background": "light"
     },
     "output_type": "display_data"
    }
   ],
   "source": [
    "log_binsize = 0.025\n",
    "bins = 10** np.arange(2.4, np.log10(diamonds['price'].max()+log_binsize), log_binsize)\n",
    "\n",
    "plt.figure(figsize=[8,5])\n",
    "plt.hist(data=diamonds, x='price', bins=bins)\n",
    "plt.xlabel('Price ($)')\n",
    "plt.xscale('log')\n",
    "plt.xticks([500, 1e3, 2e3, 5e3, 1e4, 2e4], [500, '1k', '2k', '5k', '10k', '20k'])\n",
    "plt.show()"
   ]
  },
  {
   "cell_type": "markdown",
   "metadata": {},
   "source": [
    "> Throughout this case study, you'll see comments in Markdown cells like the one below, where the text has been colored in white. Unlike the exercises in earlier lessons, a reference plot will not be provided: you'll need to assess on your own whether or not your plot matches the comments. To view these comments, you can either highlight the text, or double click the Markdown cell. Remove or change the 'color=white' style on the text to un-spoiler the commentary."
   ]
  },
  {
   "cell_type": "markdown",
   "metadata": {},
   "source": [
    "Price distribution comment 1: <span style=\"color:white\">You should create a histogram for price, since it is a numeric variable. Your initial plots should show that diamond price follows a highly skewed distribution. If you haven't tried a log scaling, then try that now.</span>"
   ]
  },
  {
   "cell_type": "markdown",
   "metadata": {},
   "source": [
    "Price distribution comment 2: <span style=\"color:white\">Under a log scale, you should see that the data is roughly bimodal, with one large peak somewhere between 500 and 1000, and a second large peak between 4 and 5 thousand. The price distribution also seems to just cut off at its maximum, rather than declining in a smooth tail.</span>"
   ]
  },
  {
   "cell_type": "markdown",
   "metadata": {},
   "source": [
    "Next, create a plot of our first diamond 'C' metric: carat weight. Is there an interesting pattern in these values?"
   ]
  },
  {
   "cell_type": "code",
   "execution_count": 48,
   "metadata": {},
   "outputs": [
    {
     "data": {
      "image/png": "[encoded data removed]",
      "text/plain": [
       "<Figure size 576x360 with 1 Axes>"
      ]
     },
     "metadata": {
      "needs_background": "light"
     },
     "output_type": "display_data"
    }
   ],
   "source": [
    "# univariate plot of carat weights\n",
    "binsize = 0.05\n",
    "bins = np.arange(0,diamonds['carat'].max()+binsize,0.05)\n",
    "plt.figure(figsize=[8,5])\n",
    "plt.hist(data= diamonds, x='carat', bins=bins)\n",
    "plt.xlim([0,3.5])\n",
    "plt.xlabel('Carat')\n",
    "plt.show()"
   ]
  },
  {
   "cell_type": "code",
   "execution_count": 49,
   "metadata": {},
   "outputs": [
    {
     "data": {
      "image/png": "[encoded data removed]",
      "text/plain": [
       "<Figure size 576x360 with 1 Axes>"
      ]
     },
     "metadata": {
      "needs_background": "light"
     },
     "output_type": "display_data"
    }
   ],
   "source": [
    "# univariate plot of carat weights\n",
    "binsize = 0.01\n",
    "bins = np.arange(0.2,1.5,0.01)\n",
    "plt.figure(figsize=[8,5])\n",
    "plt.hist(data= diamonds, x='carat', bins=bins)\n",
    "plt.xlim([0.2,1.5])\n",
    "plt.xlabel('Carat')\n",
    "plt.show()"
   ]
  },
  {
   "cell_type": "markdown",
   "metadata": {},
   "source": [
    "Carat distribution comment: <span style=\"color:white\">You should see an interesting pattern in carat weights, where there is a large spike around a single decimal value, then a gradual tailing off to the right until the next spike. In this case, it's a good idea to set the bin size small (e.g. 0.01) and zoom into a narrower range of values to clearly see the spikes in the data values. Perhaps these spikes come about as part of standard diamond size conventions?</span>"
   ]
  },
  {
   "cell_type": "markdown",
   "metadata": {},
   "source": [
    "Now, let's move on to exploring the other three 'C' quality measures: cut, color, and clarity. For each of these measures, does the data we have tend to be higher on the quality scale, or lower?"
   ]
  },
  {
   "cell_type": "code",
   "execution_count": 50,
   "metadata": {},
   "outputs": [
    {
     "data": {
      "image/png": "[encoded data removed]",
      "text/plain": [
       "<Figure size 576x576 with 3 Axes>"
      ]
     },
     "metadata": {
      "needs_background": "light"
     },
     "output_type": "display_data"
    }
   ],
   "source": [
    "# univariate plots of cut, color, and clarity grades\n",
    "fig, ax = plt.subplots(nrows=3, figsize=[8,8])\n",
    "\n",
    "default_color = sb.color_palette()[0]\n",
    "sb.countplot(data=diamonds, x='cut', color=default_color, ax=ax[0])\n",
    "sb.countplot(data=diamonds, x='color', color=default_color, ax=ax[1])\n",
    "sb.countplot(data=diamonds, x='clarity', color=default_color, ax=ax[2])\n",
    "plt.show()"
   ]
  },
  {
   "cell_type": "markdown",
   "metadata": {},
   "source": [
    "General categorical feature comment: <span style=\"color:white\">Since these features are categorical, you should be producing bar charts here. In addition, since they're ordinal in nature, the bars should be sorted in order of increasing quality level. Check the previous page if you need documentation on how the scales are set up, since they're not completely intuitive!</span>"
   ]
  },
  {
   "cell_type": "markdown",
   "metadata": {},
   "source": [
    "Cut distribution comment: <span style=\"color:white\">The bar chart should show that the mode cut quality for diamonds in this dataset is the highest grade, Ideal. There is a consistent decrease in number of diamonds of lower cut grades.</span>"
   ]
  },
  {
   "cell_type": "markdown",
   "metadata": {},
   "source": [
    "Color distribution comment: <span style=\"color:white\">The distribution is roughly unimodal, with the most common color grade in this dataset belonging to the central grade represented, G. (There are other diamond grades that are worse than J, but they're not part of the collected data.)</span>"
   ]
  },
  {
   "cell_type": "markdown",
   "metadata": {},
   "source": [
    "Clarity distribution comment: <span style=\"color:white\">There is a right-skew in the clarity grades represented in the dataset, with most of the diamonds collected having slight or very slight inclusions (SI2, SI1, VS2, VS1). There are very few diamonds with visible inclusions (I1).</span>"
   ]
  },
  {
   "cell_type": "code",
   "execution_count": 51,
   "metadata": {},
   "outputs": [
    {
     "data": {
      "image/png": "[encoded data removed]",
      "text/plain": [
       "<Figure size 576x576 with 3 Axes>"
      ]
     },
     "metadata": {
      "needs_background": "light"
     },
     "output_type": "display_data"
    }
   ],
   "source": [
    "# let's start with the major dimensions of the diamonds, with x, y, and z.\n",
    "\n",
    "fig, ax = plt.subplots(nrows=3, figsize = [8,8])\n",
    "\n",
    "variables = ['x', 'y', 'z']\n",
    "for i in range(len(variables)):\n",
    "    var = variables[i]\n",
    "    bins = np.arange(min(diamonds[var]), max(diamonds[var])+0.2, 0.2)\n",
    "    ax[i].hist(data = diamonds, x = var, bins = bins)\n",
    "    ax[i].set_xlabel('{} (mm)'.format(var))\n",
    "\n",
    "plt.show()"
   ]
  },
  {
   "cell_type": "code",
   "execution_count": 53,
   "metadata": {},
   "outputs": [
    {
     "name": "stdout",
     "output_type": "stream",
     "text": [
      "23\n",
      "       carat        cut color clarity  depth  table  price     x     y     z\n",
      "2207    1.00    Premium     G     SI2   59.1   59.0   3142  6.55  6.48  0.00\n",
      "2314    1.01    Premium     H      I1   58.1   59.0   3167  6.66  6.60  0.00\n",
      "4791    1.10    Premium     G     SI2   63.0   59.0   3696  6.50  6.47  0.00\n",
      "5471    1.01    Premium     F     SI2   59.2   58.0   3837  6.50  6.47  0.00\n",
      "10167   1.50       Good     G      I1   64.0   61.0   4731  7.15  7.04  0.00\n",
      "11182   1.07      Ideal     F     SI2   61.6   56.0   4954  0.00  6.62  0.00\n",
      "11963   1.00  Very Good     H     VS2   63.3   53.0   5139  0.00  0.00  0.00\n",
      "13601   1.15      Ideal     G     VS2   59.2   56.0   5564  6.88  6.83  0.00\n",
      "14635   1.07      Ideal     F     SI1   60.6   57.0   5909  6.62  6.67  1.07\n",
      "15951   1.14       Fair     G     VS1   57.5   67.0   6381  0.00  0.00  0.00\n",
      "20694   1.53      Ideal     I     SI1   61.9   54.0   8971  7.43  7.50  1.53\n",
      "21654   1.41      Ideal     H     VS1   60.7   56.0   9752  7.31  7.22  1.41\n",
      "24394   2.18    Premium     H     SI2   59.4   61.0  12631  8.49  8.45  0.00\n",
      "24520   1.56      Ideal     G     VS2   62.2   54.0  12800  0.00  0.00  0.00\n",
      "26123   2.25    Premium     I     SI1   61.3   58.0  15397  8.52  8.42  0.00\n",
      "26243   1.20    Premium     D    VVS1   62.1   59.0  15686  0.00  0.00  0.00\n",
      "27112   2.20    Premium     H     SI1   61.2   59.0  17265  8.42  8.37  0.00\n",
      "27429   2.25    Premium     H     SI2   62.8   59.0  18034  0.00  0.00  0.00\n",
      "27503   2.02    Premium     H     VS2   62.7   53.0  18207  8.02  7.95  0.00\n",
      "27739   2.80       Good     G     SI2   63.8   58.0  18788  8.90  8.85  0.00\n",
      "49556   0.71       Good     F     SI2   64.1   60.0   2130  0.00  0.00  0.00\n",
      "49557   0.71       Good     F     SI2   64.1   60.0   2130  0.00  0.00  0.00\n",
      "51506   1.12    Premium     G      I1   60.4   59.0   2383  6.71  6.67  0.00\n"
     ]
    }
   ],
   "source": [
    " #select low outliers, using criteria eyeballed from the plots\n",
    "\n",
    "low_outliers = (diamonds['x'] < 3.5) | (diamonds['y'] < 3.5) | (diamonds['z'] < 2)\n",
    "\n",
    "print(low_outliers.sum())\n",
    "print(diamonds.loc[low_outliers,:])"
   ]
  },
  {
   "cell_type": "code",
   "execution_count": 54,
   "metadata": {},
   "outputs": [
    {
     "name": "stdout",
     "output_type": "stream",
     "text": [
      "15\n",
      "       carat        cut color clarity  depth  table  price      x      y  \\\n",
      "23644   3.65       Fair     H      I1   67.1   53.0  11668   9.53   9.48   \n",
      "24067   2.00    Premium     H     SI2   58.9   57.0  12210   8.09  58.90   \n",
      "24328   3.50      Ideal     H      I1   62.8   57.0  12587   9.65   9.59   \n",
      "25998   4.01    Premium     I      I1   61.0   61.0  15223  10.14  10.10   \n",
      "25999   4.01    Premium     J      I1   62.5   62.0  15223  10.02   9.94   \n",
      "26194   2.01       Fair     G     SI2   65.6   56.0  15562   7.89   7.84   \n",
      "26431   3.40       Fair     D      I1   66.8   52.0  15964   9.42   9.34   \n",
      "26444   4.00  Very Good     I      I1   63.3   58.0  15984  10.01   9.94   \n",
      "26534   3.67    Premium     I      I1   62.4   56.0  16193   9.86   9.81   \n",
      "27130   4.13       Fair     H      I1   64.8   61.0  17329  10.00   9.85   \n",
      "27415   5.01       Fair     J      I1   65.5   59.0  18018  10.74  10.54   \n",
      "27630   4.50       Fair     J      I1   65.8   58.0  18531  10.23  10.16   \n",
      "27679   3.51    Premium     J     VS2   62.5   59.0  18701   9.66   9.63   \n",
      "48410   0.51  Very Good     E     VS1   61.8   54.7   1970   5.12   5.15   \n",
      "49189   0.51      Ideal     E     VS1   61.8   55.0   2075   5.15  31.80   \n",
      "\n",
      "           z  \n",
      "23644   6.38  \n",
      "24067   8.06  \n",
      "24328   6.03  \n",
      "25998   6.17  \n",
      "25999   6.24  \n",
      "26194   6.16  \n",
      "26431   6.27  \n",
      "26444   6.31  \n",
      "26534   6.13  \n",
      "27130   6.43  \n",
      "27415   6.98  \n",
      "27630   6.72  \n",
      "27679   6.03  \n",
      "48410  31.80  \n",
      "49189   5.12  \n"
     ]
    }
   ],
   "source": [
    "# select high outliers, using criteria eyeballed from the plots\n",
    "\n",
    "high_outliers = ((diamonds['y'] > 10) | (diamonds['z'] > 6))\n",
    "print(high_outliers.sum())\n",
    "print(diamonds.loc[high_outliers,:])"
   ]
  },
  {
   "cell_type": "code",
   "execution_count": 55,
   "metadata": {},
   "outputs": [
    {
     "name": "stdout",
     "output_type": "stream",
     "text": [
      "       carat  depth     x      y      z\n",
      "2207    1.00   59.1  6.55   6.48   0.00\n",
      "2314    1.01   58.1  6.66   6.60   0.00\n",
      "2941    1.00   62.8  6.26   6.19   3.19\n",
      "4518    1.00   43.0  6.32   6.27   3.97\n",
      "4791    1.10   63.0  6.50   6.47   0.00\n",
      "5471    1.01   59.2  6.50   6.47   0.00\n",
      "6341    1.00   44.0  6.31   6.24   4.12\n",
      "10167   1.50   64.0  7.15   7.04   0.00\n",
      "10377   1.09   43.0  6.53   6.55   4.12\n",
      "11182   1.07   61.6  0.00   6.62   0.00\n",
      "11963   1.00   63.3  0.00   0.00   0.00\n",
      "13601   1.15   59.2  6.88   6.83   0.00\n",
      "14635   1.07   60.6  6.62   6.67   1.07\n",
      "15951   1.14   57.5  0.00   0.00   0.00\n",
      "19502   1.57   67.3  7.85   5.75   3.87\n",
      "20694   1.53   61.9  7.43   7.50   1.53\n",
      "21654   1.41   60.7  7.31   7.22   1.41\n",
      "24067   2.00   58.9  8.09  58.90   8.06\n",
      "24394   2.18   59.4  8.49   8.45   0.00\n",
      "24520   1.56   62.2  0.00   0.00   0.00\n",
      "25849   2.00   59.0  6.16   6.15   4.82\n",
      "26123   2.25   61.3  8.52   8.42   0.00\n",
      "26194   2.01   65.6  7.89   7.84   6.16\n",
      "26243   1.20   62.1  0.00   0.00   0.00\n",
      "26495   2.06   60.0  6.29   6.25   4.96\n",
      "27112   2.20   61.2  8.42   8.37   0.00\n",
      "27429   2.25   62.8  0.00   0.00   0.00\n",
      "27503   2.02   62.7  8.02   7.95   0.00\n",
      "27739   2.80   63.8  8.90   8.85   0.00\n",
      "33102   0.34   57.0  6.65   4.61   2.64\n",
      "34282   0.39   61.2  4.51   6.02   4.44\n",
      "39246   0.38   60.9  4.71   4.68   2.06\n",
      "47138   0.55   61.0  5.31   5.34   2.25\n",
      "48410   0.51   61.8  5.12   5.15  31.80\n",
      "49189   0.51   61.8  5.15  31.80   5.12\n",
      "49556   0.71   64.1  0.00   0.00   0.00\n",
      "49557   0.71   64.1  0.00   0.00   0.00\n",
      "49905   0.50   63.7  5.01   5.04   5.06\n",
      "51506   1.12   60.4  6.71   6.67   0.00\n"
     ]
    }
   ],
   "source": [
    "# select points whose depth value does not match x, y, and z values.\n",
    "\n",
    "incorrect_depth = (np.abs(2 * diamonds['z'] / (diamonds['x'] + diamonds['y']) - diamonds['depth']/100) > 0.1)\n",
    "no_size_info = ((diamonds['x'] == 0) & (diamonds['y'] == 0))\n",
    "print(diamonds.loc[incorrect_depth | no_size_info,['carat','depth','x','y','z']])"
   ]
  },
  {
   "cell_type": "code",
   "execution_count": 56,
   "metadata": {},
   "outputs": [],
   "source": [
    "# remove points with inconsistent depth values.\n",
    "diamonds = diamonds.loc[-incorrect_depth & -no_size_info,:]"
   ]
  },
  {
   "cell_type": "code",
   "execution_count": 57,
   "metadata": {},
   "outputs": [
    {
     "data": {
      "image/png": "[encoded data removed]",
      "text/plain": [
       "<Figure size 576x576 with 3 Axes>"
      ]
     },
     "metadata": {
      "needs_background": "light"
     },
     "output_type": "display_data"
    }
   ],
   "source": [
    "# re-plot the distribution of x, y, and z.\n",
    "fig, ax = plt.subplots(nrows=3, figsize = [8,8])\n",
    "\n",
    "variables = ['x', 'y', 'z']\n",
    "for i in range(len(variables)):\n",
    "    var = variables[i]\n",
    "    bins = np.arange(min(diamonds[var]), max(diamonds[var])+0.1, 0.1)\n",
    "    ax[i].hist(data = diamonds, x = var, bins = bins)\n",
    "    ax[i].set_xlabel('{} (mm)'.format(var))\n",
    "\n",
    "plt.show()"
   ]
  },
  {
   "cell_type": "code",
   "execution_count": 58,
   "metadata": {},
   "outputs": [
    {
     "data": {
      "image/png": "[encoded data removed]",
      "text/plain": [
       "<Figure size 648x576 with 2 Axes>"
      ]
     },
     "metadata": {
      "needs_background": "light"
     },
     "output_type": "display_data"
    }
   ],
   "source": [
    "# re-using code to plot depth and table.\n",
    "fig, ax = plt.subplots(nrows=2, figsize = [9,8])\n",
    "\n",
    "variables = ['table', 'depth']\n",
    "for i in range(len(variables)):\n",
    "    var = variables[i]\n",
    "    bins = np.arange(min(diamonds[var]), max(diamonds[var])+0.2, 0.2)\n",
    "    ax[i].hist(data = diamonds, x = var, bins = bins)\n",
    "    ax[i].set_xlabel('{}'.format(var))\n",
    "\n",
    "plt.show()"
   ]
  },
  {
   "cell_type": "code",
   "execution_count": null,
   "metadata": {},
   "outputs": [],
   "source": []
  }
 ],
 "metadata": {
  "kernelspec": {
   "display_name": "Python 3 (ipykernel)",
   "language": "python",
   "name": "python3"
  },
  "language_info": {
   "codemirror_mode": {
    "name": "ipython",
    "version": 3
   },
   "file_extension": ".py",
   "mimetype": "text/x-python",
   "name": "python",
   "nbconvert_exporter": "python",
   "pygments_lexer": "ipython3",
   "version": "3.9.12"
  }
 },
 "nbformat": 4,
 "nbformat_minor": 2
}
